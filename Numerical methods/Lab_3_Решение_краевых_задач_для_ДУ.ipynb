{
 "cells": [
  {
   "cell_type": "markdown",
   "metadata": {},
   "source": [
    "## ЛАБОРАТОРНАЯ РАБОТА 3\n",
    "#### ЧИСЛЕННОЕ РЕШЕНИЕ  КРАЕВЫХ ЗАДАЧ ДЛЯ ДИФФЕРЕНЦИАЛЬНЫХ УРАВНЕНИЙ"
   ]
  },
  {
   "cell_type": "code",
   "execution_count": 847,
   "metadata": {},
   "outputs": [],
   "source": [
    "import numpy as np\n",
    "import copy\n",
    "import math\n",
    "import matplotlib.pyplot as plt"
   ]
  },
  {
   "cell_type": "markdown",
   "metadata": {},
   "source": [
    "#### Задача  3.1."
   ]
  },
  {
   "cell_type": "code",
   "execution_count": 848,
   "metadata": {},
   "outputs": [],
   "source": [
    "# метод конечных разностей\n",
    "# общий вид au\" + bu' + cu = f  \n",
    "# h - шаг разбиения \n",
    "# u0(x0) = fU_0 и un(xn) = fU_n - граничные условия  \n",
    "\n",
    "#вариант 20\n",
    "a = - 1\n",
    "b = 2\n",
    "c = 8 \n",
    "\n",
    "x0 = 0\n",
    "xn = 2\n",
    "\n",
    "h = 0.5\n",
    "\n",
    "def f(x):\n",
    "    return -2*x**2 + 8*x +3 \n",
    "\n",
    "def fU_0(x):\n",
    "    return 6\n",
    "\n",
    "def fU_n(x):\n",
    "    return -3 "
   ]
  },
  {
   "cell_type": "code",
   "execution_count": 849,
   "metadata": {},
   "outputs": [],
   "source": [
    "def approximate_solution(a,b,c,f,h,x0,fU_0,xn,fU_n):  # метод прогонки для решения СЛАУ\n",
    "    n = math.ceil((xn-x0)/h)\n",
    "    x = np.arange(x0,xn+h, h)\n",
    "    A = [(2*a - b*h) for i in range(1,n+1)]         # A[n-1]\n",
    "    B = [(c*2*h**2 - 4*a) for i in range(n+1)]      # B[n]\n",
    "    C = [(2*a + b*h) for i in range(0,n)]           # C[n-1]\n",
    "    F = [(2*h**2*f(x[i])) for i in range(n+1)] \n",
    "    \n",
    "    F[0] = fU_0(x0)\n",
    "    F[n] = fU_n(xn)\n",
    "    u = np.zeros(n+1) # массив решений\n",
    "   \n",
    "    B[n] = 1\n",
    "    u[n] = fU_n(xn)\n",
    "    B[0] = 1\n",
    "    u[0] = fU_0(x0)\n",
    "\n",
    "    a = np.zeros(n+1)\n",
    "    s = np.zeros(n+1)\n",
    "    s[0] = F[0]/B[0]\n",
    "    \n",
    "    for i in range(1,n):\n",
    "        a[i] = - C[i]/(A[i]*a[i-1]+B[i])\n",
    "        s[i] = (F[i]-A[i]*s[i-1])/(A[i]*a[i-1]+B[i])\n",
    "    for i in reversed(range(1,n)):\n",
    "        u[i] = a[i]*u[i+1]+s[i]\n",
    "    return u\n",
    "solv = approximate_solution(a,b,c,f,h,x0,fU_0,xn,fU_n)"
   ]
  },
  {
   "cell_type": "code",
   "execution_count": 850,
   "metadata": {},
   "outputs": [],
   "source": [
    "# правило Рунге\n",
    "def runge (I, I0):\n",
    "    q = []\n",
    "    for i in range(1,len(I)):\n",
    "        q.append(abs(I[i] - I0[2*i])/ 3)\n",
    "    return q "
   ]
  },
  {
   "cell_type": "code",
   "execution_count": 851,
   "metadata": {},
   "outputs": [
    {
     "name": "stdout",
     "output_type": "stream",
     "text": [
      "Шаг при погрешности по Рунге 0.001  =  0.025\n",
      "Число точек 80\n"
     ]
    }
   ],
   "source": [
    "h = 0.2  # берем в качестве начального шага\n",
    "eps = 0.001 # заданная точность\n",
    "M = 1000\n",
    "\n",
    "while (M > eps):\n",
    "    n = math.ceil((xn-x0)/h)\n",
    "    y_ans_2h = approximate_solution(a,b,c,f,h,x0,fU_0,xn,fU_n)\n",
    "    h=h/2\n",
    "    y_ans_h = approximate_solution(a,b,c,f,h,x0,fU_0,xn,fU_n)\n",
    "    rung_list = runge(y_ans_2h,y_ans_h)\n",
    "    M = max(rung_list)\n",
    "\n",
    "print(\"Шаг при погрешности по Рунге\",eps,\" = \",h)\n",
    "print(\"Число точек\",math.ceil((xn-x0)/h))"
   ]
  },
  {
   "cell_type": "code",
   "execution_count": 852,
   "metadata": {},
   "outputs": [
    {
     "data": {
      "image/png": "[encoded data removed]",
      "text/plain": [
       "<Figure size 432x288 with 1 Axes>"
      ]
     },
     "metadata": {
      "needs_background": "light"
     },
     "output_type": "display_data"
    }
   ],
   "source": [
    "# Построить график решения.\n",
    "\n",
    "# для графика решения методом \n",
    "solv = approximate_solution(a,b,c,f,h,x0,fU_0,xn,fU_n)\n",
    "x = np.arange(x0,xn+h, h)\n",
    "\n",
    "# график точного решения\n",
    "def exact_solution(x):\n",
    "    return  (math.e**(-2*x)*(math.e**(2*(x+6))*(-8*x**2 + 36*x + 1) + math.e**(2*x)*(8*x**2-36*x-1)-191*math.e**(6*x)-137*math.e**(6*x+4) + 191*math.e**12 + 137 *math.e**4))/(32*(math.e**12 - 1))\n",
    "x_e = np.arange(0,2, 0.001)\n",
    "\n",
    "x_graph = np.linspace(x0, xn, 1, endpoint = True) \n",
    "plt.plot(x, solv)\n",
    "plt.plot(x_e, exact_solution(x_e))\n",
    "plt.scatter(x, solv)\n",
    "plt.grid('True')\n",
    "plt.show()"
   ]
  },
  {
   "cell_type": "markdown",
   "metadata": {},
   "source": [
    "#### Задача  3.2"
   ]
  },
  {
   "cell_type": "code",
   "execution_count": 853,
   "metadata": {},
   "outputs": [],
   "source": [
    "#вычисляем функцию k(x) из индивидуального варианта\n",
    "\n",
    "from itertools import permutations\n",
    "def k(x):\n",
    "    if  ((x >= 0) and (x <= 1)):\n",
    "        return 14\n",
    "    elif ((x > 1) and (x <= 2)):\n",
    "        return (x+3)**(1/2)\n",
    "    elif ((x > 2) and (x <= 3)):\n",
    "        return   5 +2*x\n",
    "    else:\n",
    "        return \"ОШИБКА\""
   ]
  },
  {
   "cell_type": "code",
   "execution_count": 854,
   "metadata": {},
   "outputs": [],
   "source": [
    "\n",
    "x0 = 0\n",
    "xn = 3\n",
    "\n",
    "h = 0.001\n",
    "\n",
    "def f(x):\n",
    "    return -2*x**2 + 8*x +3 \n",
    "\n",
    "def fU_0(x):\n",
    "    return 1\n",
    "\n",
    "def fU_n(x):\n",
    "    return 5 \n",
    "\n",
    "def q(x):\n",
    "    return 8 "
   ]
  },
  {
   "cell_type": "code",
   "execution_count": 855,
   "metadata": {},
   "outputs": [],
   "source": [
    "def approximate_solution(q,c,f,h,x0,fU_0,xn,fU_n):  # метод прогонки для решения СЛАУ\n",
    "    n = math.ceil((xn-x0)/h)\n",
    "    x = np.arange(x0,xn+h, h)\n",
    "    B = []\n",
    "    C = []\n",
    "    A = []\n",
    "    C.append(0)\n",
    "    A.append(0)\n",
    "    B.append(1) # B[0]\n",
    "    for i in range(0,n-1):\n",
    "        B.append(k((x[i-1]+x[i])/2) + k((x[i]+x[i+1])/2) + h**2*q(x))\n",
    "        C.append(-k((x[i]+x[i+1])/2)) \n",
    "        A.append(-k((x[i-1]+x[i])/2))\n",
    "    B.append(1) # B[n]\n",
    "    F = [(h**2*f(x[i])) for i in range(n+1)] \n",
    "    C.append(0)\n",
    "    A.append(0) # A[0]\n",
    "    F[0] = fU_0(x0)\n",
    "    F[n] = fU_n(xn)\n",
    "    u = np.zeros(n+1) # массив решений\n",
    "\n",
    "    u[n] = fU_n(xn) \n",
    "    u[0] = fU_0(x0)\n",
    "\n",
    "    a = np.zeros(n+1)\n",
    "    s = np.zeros(n+1)\n",
    "    s[0] = F[0]/B[0]\n",
    "    \n",
    "    for i in range(1,n):\n",
    "        a[i] = - C[i]/(A[i]*a[i-1]+B[i])\n",
    "        s[i] = (F[i]-A[i]*s[i-1])/(A[i]*a[i-1]+B[i])\n",
    "\n",
    "    for i in reversed(range(1,n)):\n",
    "        u[i] = a[i]*u[i+1]+s[i]\n",
    "    return u\n",
    "\n",
    "h = 0.0001\n",
    "solv = approximate_solution(q,c,f,h,x0,fU_0,xn,fU_n)"
   ]
  },
  {
   "cell_type": "code",
   "execution_count": 856,
   "metadata": {
    "scrolled": true
   },
   "outputs": [
    {
     "name": "stdout",
     "output_type": "stream",
     "text": [
      "23000\n",
      "30001\n",
      "значение в точке 2.3 =  3.5898555197865245\n"
     ]
    }
   ],
   "source": [
    "  # берем в качестве начального шага\n",
    "j = math.ceil((2.3-x0)/h)\n",
    "print(j)\n",
    "print(len(solv))\n",
    "print(\"значение в точке 2.3 = \",solv[j])"
   ]
  },
  {
   "cell_type": "code",
   "execution_count": 857,
   "metadata": {},
   "outputs": [
    {
     "data": {
      "image/png": "[encoded data removed]",
      "text/plain": [
       "<Figure size 432x288 with 1 Axes>"
      ]
     },
     "metadata": {
      "needs_background": "light"
     },
     "output_type": "display_data"
    }
   ],
   "source": [
    "# Построить график решения.\n",
    "\n",
    "# для графика решения методом \n",
    "solv = approximate_solution(q,c,f,h,x0,fU_0,xn,fU_n)\n",
    "x = np.arange(x0,xn + h, h)\n",
    "\n",
    "x_graph = np.linspace(x0, xn, 1, endpoint = True) \n",
    "plt.plot(x, solv,label=\"321\")\n",
    "plt.scatter(x, solv)\n",
    "plt.grid('True')\n",
    "plt.show()"
   ]
  },
  {
   "cell_type": "markdown",
   "metadata": {},
   "source": [
    "для того, чтоб все графики были на одном рисунке "
   ]
  },
  {
   "cell_type": "code",
   "execution_count": 858,
   "metadata": {},
   "outputs": [],
   "source": [
    "from itertools import permutations\n",
    "\n",
    "def k(x, k_list):\n",
    "    if ((x >= 0) and (x <= 1)):\n",
    "        return k_choice(k_list[0],x)\n",
    "    elif ((x > 1) and (x <= 2)):\n",
    "        return k_choice(k_list[1],x)\n",
    "    elif ((x > 2) and (x <= 3)):\n",
    "         return k_choice(k_list[2],x)\n",
    "    else:\n",
    "        print(\"ОШИБКА\")\n",
    "        return \"ОШИБКА\"\n",
    "    \n",
    "def k_choice(k_cell,x):\n",
    "    if k_cell == 1:\n",
    "        return (x+3)**(1/2) \n",
    "    if k_cell == 2:\n",
    "        return 14 \n",
    "    if k_cell == 3:\n",
    "        return 5 + 2*x\n",
    "    "
   ]
  },
  {
   "cell_type": "code",
   "execution_count": 859,
   "metadata": {},
   "outputs": [],
   "source": [
    "def approximate_solution(q,c,f,h,x0,fU_0,xn,fU_n, k_l):  # метод прогонки для решения СЛАУ\n",
    "    n = math.ceil((xn-x0)/h)\n",
    "    x = np.arange(x0,xn+h, h)\n",
    "    B = []\n",
    "    C = []\n",
    "    A = []\n",
    "    C.append(0)\n",
    "    A.append(0)\n",
    "    B.append(1) # B[0]\n",
    "    for i in range(0,n-1):\n",
    "        B.append(k(((x[i-1]+x[i])/2),k_l) + k(((x[i]+x[i+1])/2), k_l) + h**2*q(x))\n",
    "        C.append(-k(((x[i]+x[i+1])/2),k_l)) \n",
    "        A.append(-k(((x[i-1]+x[i])/2),k_l))\n",
    "    B.append(1) # B[n]\n",
    "    F = [(h**2*f(x[i])) for i in range(n+1)] \n",
    "    C.append(0)\n",
    "    A.append(0) # A[0]\n",
    "    F[0] = fU_0(x0)\n",
    "    F[n] = fU_n(xn)\n",
    "    u = np.zeros(n+1) # массив решений\n",
    "\n",
    "    u[n] = fU_n(xn) \n",
    "    u[0] = fU_0(x0)\n",
    "\n",
    "    a = np.zeros(n+1)\n",
    "    s = np.zeros(n+1)\n",
    "    s[0] = F[0]/B[0]\n",
    "    \n",
    "    for i in range(1,n):\n",
    "        a[i] = - C[i]/(A[i]*a[i-1]+B[i])\n",
    "        s[i] = (F[i]-A[i]*s[i-1])/(A[i]*a[i-1]+B[i])\n",
    "\n",
    "    for i in reversed(range(1,n)):\n",
    "        u[i] = a[i]*u[i+1]+s[i]\n",
    "    return u"
   ]
  },
  {
   "cell_type": "code",
   "execution_count": 862,
   "metadata": {},
   "outputs": [
    {
     "name": "stdout",
     "output_type": "stream",
     "text": [
      "все варианты перестановок\n",
      "(1, 2, 3)\n",
      "(1, 3, 2)\n",
      "(2, 1, 3)\n",
      "(2, 3, 1)\n",
      "(3, 1, 2)\n",
      "(3, 2, 1)\n"
     ]
    }
   ],
   "source": [
    "from itertools import permutations\n",
    "\n",
    "solv = [] # массив решений \n",
    "k_list =[1,2,3]\n",
    "k_list_one = list(permutations(k_list))\n",
    "\n",
    "h = 0.0001\n",
    "print(\"все варианты перестановок\")\n",
    "for i in range(len(k_list_one)):\n",
    "    print(k_list_one[i])\n",
    "    solv.append(approximate_solution(q,c,f,h,x0,fU_0,xn,fU_n,k_list_one[i]))\n",
    "#print(solv)"
   ]
  },
  {
   "cell_type": "code",
   "execution_count": 863,
   "metadata": {},
   "outputs": [
    {
     "data": {
      "image/png": "[encoded data removed]",
      "text/plain": [
       "<Figure size 432x288 with 1 Axes>"
      ]
     },
     "metadata": {
      "needs_background": "light"
     },
     "output_type": "display_data"
    }
   ],
   "source": [
    "# Построить график решения.\n",
    "# 1: (x+3)**(1/2) \n",
    "# 2: 14 \n",
    "# 3: 5 + 2*x\n",
    "\n",
    "x = np.arange(x0,xn+h, h)\n",
    "\n",
    "x_graph = np.linspace(x0, xn, 1, endpoint = True) \n",
    "for i in range(len(solv)):\n",
    "    plt.plot(x, solv[i],label=k_list_one[i]) \n",
    "    #plt.scatter(x, solv[i]) \n",
    "plt.grid('True')\n",
    "plt.legend()\n",
    "plt.show()"
   ]
  }
 ],
 "metadata": {
  "kernelspec": {
   "display_name": "Python 3",
   "language": "python",
   "name": "python3"
  },
  "language_info": {
   "codemirror_mode": {
    "name": "ipython",
    "version": 3
   },
   "file_extension": ".py",
   "mimetype": "text/x-python",
   "name": "python",
   "nbconvert_exporter": "python",
   "pygments_lexer": "ipython3",
   "version": "3.8.1"
  }
 },
 "nbformat": 4,
 "nbformat_minor": 4
}
