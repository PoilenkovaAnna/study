{
 "cells": [
  {
   "cell_type": "markdown",
   "metadata": {},
   "source": [
    "# ЛАБОРАТОРНАЯ РАБОТА №1.               Поиленкова Анна                  А-05-18         Вар 20 \n",
    "----"
   ]
  },
  {
   "cell_type": "code",
   "execution_count": 27,
   "metadata": {},
   "outputs": [],
   "source": [
    "import numpy as np\n",
    "import copy\n",
    "import math\n",
    "import matplotlib.pyplot as plt\n",
    "import scipy\n",
    "from scipy import integrate"
   ]
  },
  {
   "cell_type": "markdown",
   "metadata": {},
   "source": [
    "1. Вычислить интеграл  с помощью средств  Python."
   ]
  },
  {
   "cell_type": "code",
   "execution_count": 28,
   "metadata": {},
   "outputs": [
    {
     "name": "stdout",
     "output_type": "stream",
     "text": [
      "ОТВЕТ: 3.663132913658664\n"
     ]
    }
   ],
   "source": [
    "N = 20\n",
    "a = -0.1*N   #\n",
    "b = 7 - 0.1*N   # [0 ; pi/2]\n",
    "\n",
    "\n",
    "fun = lambda x: np.exp(x)*np.cos(np.pi*0.1*N*x)\n",
    "\n",
    "answer = integrate.quad(fun, a, b)  \n",
    "print (\"ОТВЕТ:\", answer[0])"
   ]
  },
  {
   "cell_type": "markdown",
   "metadata": {},
   "source": [
    "2. Построить график подынтегральной функции."
   ]
  },
  {
   "cell_type": "code",
   "execution_count": 29,
   "metadata": {},
   "outputs": [
    {
     "data": {
      "image/png": "[encoded data removed]",
      "text/plain": [
       "<Figure size 432x288 with 1 Axes>"
      ]
     },
     "metadata": {
      "needs_background": "light"
     },
     "output_type": "display_data"
    }
   ],
   "source": [
    "def f(x0):\n",
    "    N = 20 \n",
    "    return np.exp(x0)*np.cos(np.pi*0.1*N*x0) \n",
    "\n",
    "x_graph = np.linspace(-2,5 , 100, endpoint = True)\n",
    "plt.plot(x_graph, f(x_graph))\n",
    "plt.grid('True')\n",
    "plt.show()"
   ]
  },
  {
   "cell_type": "markdown",
   "metadata": {},
   "source": [
    "3. Составить программу, содержащую следующие разделы: \n",
    "    \n",
    "    \n",
    "       а) вычисление  интеграла по составным квадратурным формулам  левых прямоугольников и индивидуального варианта  с заданным шагом h;"
   ]
  },
  {
   "cell_type": "code",
   "execution_count": 30,
   "metadata": {},
   "outputs": [],
   "source": [
    "# Функция для левых прямоугольников \n",
    "\n",
    "def left_triangle(h0, y0, a0, b0):\n",
    "    I = 0\n",
    "    for i in range(0, math.ceil((b0-a0)/h0) - 1 ):  # округление числа в большую сторону\n",
    "        I += y0[i]\n",
    "    I*=h0\n",
    "    print(\"Приближенное значение интеграла по формуле левых прямоугольников = \",I)\n",
    "    return I\n",
    "    \n",
    "# функция по индивидуальному варианту ( формула трапеции )\n",
    "\n",
    "\n",
    "def trapezium(h0, y0, a0, b0):\n",
    "    I = 0\n",
    "    for i in range(0, math.ceil((b0-a0)/h0) -1  ):  # округление числа в большую сторону\n",
    "        I += (y0[i] + y0[i+1])/2\n",
    "        #print(i, \" - \", I)\n",
    "    I*=h0\n",
    "    print(\"Приближенное значение интеграла по формуле трапеции = \",I)\n",
    "    return I\n",
    "    "
   ]
  },
  {
   "cell_type": "code",
   "execution_count": 31,
   "metadata": {},
   "outputs": [
    {
     "name": "stdout",
     "output_type": "stream",
     "text": [
      "Приближенное значение интеграла по формуле левых прямоугольников =  3.6408793169949196\n",
      "Приближенное значение интеграла по формуле трапеции =  3.648292464692485\n"
     ]
    },
    {
     "data": {
      "text/plain": [
       "3.648292464692485"
      ]
     },
     "execution_count": 31,
     "metadata": {},
     "output_type": "execute_result"
    }
   ],
   "source": [
    "h = 0.0001   # заданный шаг разбиения \n",
    "\n",
    "y = np.zeros( math.ceil((b-a)/h ))\n",
    "x = np.arange(a, b, h)\n",
    "\n",
    "for i in range(math.ceil((b-a)/h)):\n",
    "    y[i] = f(x[i])\n",
    "\n",
    "left_triangle(h, y, a, b)\n",
    "trapezium(h, y, a, b)"
   ]
  },
  {
   "cell_type": "markdown",
   "metadata": {},
   "source": [
    "------------------------------ формула левых прямоугольников -----------------------------------"
   ]
  },
  {
   "cell_type": "code",
   "execution_count": 32,
   "metadata": {},
   "outputs": [
    {
     "data": {
      "image/png": "[encoded data removed]",
      "text/plain": [
       "<Figure size 432x288 with 1 Axes>"
      ]
     },
     "metadata": {
      "needs_background": "light"
     },
     "output_type": "display_data"
    },
    {
     "name": "stdout",
     "output_type": "stream",
     "text": [
      " M =  763.1394000088535\n"
     ]
    }
   ],
   "source": [
    "# априорная оценка \n",
    "def f_1(x0):  # первая производна функции\n",
    "    N = 20 \n",
    "    return np.exp(x0)*(np.cos(np.pi*0.1*N*x0) - np.sin(np.pi*0.1*N*x0)*np.pi*0.1*N)\n",
    "\n",
    "# график первой прозводной\n",
    "x_graph = np.linspace(-2, 5 , 100, endpoint = True)\n",
    "plt.plot(x_graph, f_1(x_graph))\n",
    "plt.grid('True')\n",
    "plt.show()\n",
    "\n",
    "# по графику определяем примерную точку максимума (примерно x = 4.8)\n",
    "from scipy.misc import derivative\n",
    "M = derivative(f, 4.8, dx = 0.01)   \n",
    "print(\" M = \",M)"
   ]
  },
  {
   "cell_type": "code",
   "execution_count": 33,
   "metadata": {},
   "outputs": [],
   "source": [
    "# правило Рунге\n",
    "def runge (I, I0, p):\n",
    "    return  (I - I0)/(pow(2,p)-1)"
   ]
  },
  {
   "cell_type": "code",
   "execution_count": 34,
   "metadata": {},
   "outputs": [
    {
     "name": "stdout",
     "output_type": "stream",
     "text": [
      "Шаг разбиения для левых прямоугольников <  3.743933096770669e-07\n",
      "Число разбиений для левых прямоугольников  =  18696916\n",
      "шаг h\n",
      "Приближенное значение интеграла по формуле левых прямоугольников =  3.6630885047212978\n",
      "шаг h/2\n",
      "Приближенное значение интеграла по формуле левых прямоугольников =  3.663102383270613\n",
      "Погрешность по Рунге =  1.3878549315116118e-05\n",
      "Уточнение по Рунге для ф.левых прямоугольников =  3.663116261819928\n",
      "Погрешность уточненного знач. интерг  =  1.665183873589271e-05\n"
     ]
    }
   ],
   "source": [
    "eps = 10**(-3)\n",
    "\n",
    "h1 = ((eps*2)/(M*(b-a)))\n",
    "print(\"Шаг разбиения для левых прямоугольников < \",h1 )\n",
    "\n",
    "n =  math.ceil((b-a)/h1)\n",
    "print(\"Число разбиений для левых прямоугольников  = \", n)\n",
    "\n",
    "y1 = np.zeros( math.ceil((b-a)/h1 ))\n",
    "x1 = np.arange(a, b, h1)\n",
    "\n",
    "for i in range(math.ceil((b-a)/h1)):\n",
    "    y1[i] = f(x1[i])\n",
    "    \n",
    "# шаг разбиения в 2 раза меньше для формулы Рунге\n",
    "h2 = h1/2\n",
    "y2 = np.zeros( math.ceil((b-a)/(h2) ))\n",
    "x2 = np.arange(a, b, h2)\n",
    "\n",
    "for i in range(math.ceil((b-a)/h2)):\n",
    "    y2[i] = f(x2[i])\n",
    "\n",
    "#---------------------------------------\n",
    "print(\"шаг h\")\n",
    "I_2h_left = left_triangle(h1, y1, a, b)\n",
    "print(\"шаг h/2\")\n",
    "I_h_left = left_triangle(h2, y2, a, b) \n",
    "\n",
    "\n",
    "R_left = runge(I_h_left,I_2h_left, 1) # порядок точности у лев треуг = 1\n",
    "print(\"Погрешность по Рунге = \",R_left)\n",
    "print(\"Уточнение по Рунге для ф.левых прямоугольников = \",I_h_left+ R_left)\n",
    "print(\"Погрешность уточненного знач. интерг  = \", abs(answer[0] -( I_h_left+ R_left)))"
   ]
  },
  {
   "cell_type": "markdown",
   "metadata": {},
   "source": [
    "------------------------------ формула трапеции-----------------------------------"
   ]
  },
  {
   "cell_type": "code",
   "execution_count": 35,
   "metadata": {},
   "outputs": [
    {
     "data": {
      "image/png": "[encoded data removed]",
      "text/plain": [
       "<Figure size 432x288 with 1 Axes>"
      ]
     },
     "metadata": {
      "needs_background": "light"
     },
     "output_type": "display_data"
    },
    {
     "name": "stdout",
     "output_type": "stream",
     "text": [
      " M2 =  5709.06782057591\n"
     ]
    }
   ],
   "source": [
    "# априорная оценка \n",
    "def f_2(x0):  # вторая производна функции\n",
    "    N = 20 \n",
    "    return np.exp(x0)*(np.cos(np.pi*0.1*N*x0) - 2*np.sin(np.pi*0.1*N*x0)*np.pi*0.1*N -np.cos(np.pi*0.1*N*x0)*np.pi**2*0.01*N**2)\n",
    "# график второй прозводной\n",
    "x_graph = np.linspace(-2, 5 , 100, endpoint = True)\n",
    "plt.plot(x_graph, f_2(x_graph))\n",
    "plt.grid('True')\n",
    "plt.show()\n",
    "# по графику определяем примерную точку максимума (примерно x = 5)\n",
    "from scipy.misc import derivative\n",
    "M2 = derivative(f, 5, dx = 0.01, n = 2)  \n",
    "print(\" M2 = \",abs(M2))"
   ]
  },
  {
   "cell_type": "code",
   "execution_count": 36,
   "metadata": {},
   "outputs": [
    {
     "name": "stdout",
     "output_type": "stream",
     "text": [
      "шаг разбиения для трапеции <  1.7328421445448293e-06\n",
      "Число разбиений для трапеции  =  4039607\n",
      "шаг h\n",
      "Приближенное значение интеграла по формуле трапеции =  3.6630622306759313\n",
      "шаг h/2\n",
      "Приближенное значение интеграла по формуле трапеции =  3.663062230647665\n",
      "Погрешность по Рунге =  -9.422092735652162e-12\n",
      "Уточнение по Рунге для ф.трапеции =  3.6630622306382428\n",
      "Погрешность уточненного знач. интерг  =  7.068302042112506e-05\n"
     ]
    }
   ],
   "source": [
    "eps = 10**(-8)\n",
    "\n",
    "h_1 = ( ((eps*12)/(abs(M2)*(b-a))) )**(1/2)\n",
    "print(\"шаг разбиения для трапеции < \",h_1 )\n",
    "\n",
    "n_1 =  math.ceil((b-a)/h_1)\n",
    "print(\"Число разбиений для трапеции  = \", n_1)\n",
    "\n",
    "y_1 = np.zeros( math.ceil((b-a)/h_1 ))\n",
    "x_1 = np.arange(a, b, h_1)\n",
    "\n",
    "for i in range(math.ceil((b-a)/h_1)):\n",
    "    y_1[i] = f(x_1[i])\n",
    "\n",
    "# шаг разбиения в 2 раза меньше для формулы Рунге\n",
    "h_2 = h_1/2\n",
    "y_2 = np.zeros( math.ceil((b-a)/(h_2) ))\n",
    "x_2 = np.arange(a, b, h_2)\n",
    "\n",
    "for i in range(math.ceil((b-a)/h_2)):\n",
    "    y_2[i] = f(x_2[i])\n",
    "\n",
    "print(\"шаг h\")\n",
    "I_2h_trap = trapezium(h_1, y_1, a, b)\n",
    "print(\"шаг h/2\")\n",
    "I_h_trap = trapezium(h_2, y_2, a, b)\n",
    "R_trap= runge(I_h_trap,I_2h_trap, 2) # потряк точности у трапец = 2\n",
    "\n",
    "print(\"Погрешность по Рунге = \",R_trap)\n",
    "print(\"Уточнение по Рунге для ф.трапеции = \",I_h_trap + R_trap)\n",
    "print(\"Погрешность уточненного знач. интерг  = \", abs(answer[0] -(I_h_trap + R_trap)))"
   ]
  },
  {
   "cell_type": "markdown",
   "metadata": {},
   "source": [
    "Задача 1.2\n",
    "--\n"
   ]
  },
  {
   "cell_type": "code",
   "execution_count": null,
   "metadata": {},
   "outputs": [],
   "source": []
  },
  {
   "cell_type": "code",
   "execution_count": 5,
   "metadata": {},
   "outputs": [],
   "source": [
    "import numpy as np\n",
    "import copy\n",
    "import math\n",
    "import matplotlib.pyplot as plt\n",
    "import scipy\n",
    "from scipy import integrate"
   ]
  },
  {
   "cell_type": "code",
   "execution_count": 8,
   "metadata": {},
   "outputs": [
    {
     "name": "stdout",
     "output_type": "stream",
     "text": [
      "ОТВЕТ: 0.9999999999999999\n"
     ]
    }
   ],
   "source": [
    "N = 20\n",
    "a = 0  #\n",
    "b = np.pi/2   # [0 ; pi/2]\n",
    "\n",
    "\n",
    "fun = lambda x: np.cos(x)\n",
    "\n",
    "answer = integrate.quad(fun, a, b)  \n",
    "print (\"ОТВЕТ:\", answer[0])"
   ]
  },
  {
   "cell_type": "code",
   "execution_count": 12,
   "metadata": {
    "scrolled": true
   },
   "outputs": [
    {
     "data": {
      "image/png": "[encoded data removed]",
      "text/plain": [
       "<Figure size 432x288 with 1 Axes>"
      ]
     },
     "metadata": {
      "needs_background": "light"
     },
     "output_type": "display_data"
    }
   ],
   "source": [
    "def f(x0):\n",
    "    N = 20 \n",
    "    return np.cos(x0) \n",
    "\n",
    "x_graph = np.linspace(0, np.pi/2 , 100, endpoint = True)\n",
    "plt.plot(x_graph, f(x_graph))\n",
    "plt.grid('True')\n",
    "plt.show()"
   ]
  },
  {
   "cell_type": "code",
   "execution_count": null,
   "metadata": {},
   "outputs": [],
   "source": []
  },
  {
   "cell_type": "code",
   "execution_count": 19,
   "metadata": {},
   "outputs": [],
   "source": [
    "# Функция для левых прямоугольников \n",
    "\n",
    "def left_triangle(h0, y0, a0, b0):\n",
    "    I = 0\n",
    "    for i in range(0, math.ceil((b0-a0)/h0) - 1 ):  # округление числа в большую сторону\n",
    "        I += y0[i]\n",
    "    I*=h0\n",
    "    print(\"Приближенное значение интеграла по формуле левых прямоугольников = \",I)\n",
    "    return I\n",
    "    \n",
    "# функция по индивидуальному варианту ( формула трапеции )\n",
    "\n",
    "\n",
    "def trapezium(h0, y0, a0, b0):\n",
    "    I = 0\n",
    "    for i in range(0, math.ceil((b0-a0)/h0) -1  ):  # округление числа в большую сторону\n",
    "        I += (y0[i] + y0[i+1])/2\n",
    "        #print(i, \" - \", I)\n",
    "    I*=h0\n",
    "    print(\"Приближенное значение интеграла по формуле трапеции = \",I)\n",
    "    return I\n",
    "    "
   ]
  },
  {
   "cell_type": "code",
   "execution_count": 22,
   "metadata": {},
   "outputs": [
    {
     "data": {
      "image/png": "[encoded data removed]",
      "text/plain": [
       "<Figure size 432x288 with 1 Axes>"
      ]
     },
     "metadata": {
      "needs_background": "light"
     },
     "output_type": "display_data"
    },
    {
     "name": "stdout",
     "output_type": "stream",
     "text": [
      " M2 =  0.9999916666947328\n"
     ]
    }
   ],
   "source": [
    "# априорная оценка \n",
    "def f_2(x0):  # вторая производна функции\n",
    "    N = 20 \n",
    "    return -np.cos(x0)\n",
    "x_graph = np.linspace(0, np.pi/2 , 100, endpoint = True)\n",
    "plt.plot(x_graph, f_2(x_graph))\n",
    "plt.grid('True')\n",
    "plt.show()\n",
    "# по графику определяем примерную точку максимума (примерно x = np.pi/2)\n",
    "from scipy.misc import derivative\n",
    "M2 = derivative(f, 0, dx = 0.01, n = 2)  \n",
    "print(\" M2 = \",abs(M2))"
   ]
  },
  {
   "cell_type": "code",
   "execution_count": 23,
   "metadata": {},
   "outputs": [],
   "source": [
    "# правило Рунге\n",
    "def runge (I, I0, p):\n",
    "    return  (I - I0)/(pow(2,p)-1)"
   ]
  },
  {
   "cell_type": "code",
   "execution_count": 24,
   "metadata": {},
   "outputs": [
    {
     "name": "stdout",
     "output_type": "stream",
     "text": [
      "шаг разбиения для трапеции <  0.0002763964712275524\n",
      "Число разбиений для трапеции  =  5684\n",
      "шаг h\n",
      "Приближенное значение интеграла по формуле трапеции =  0.9999999930149018\n",
      "шаг h/2\n",
      "Приближенное значение интеграла по формуле трапеции =  0.9999999977895991\n",
      "Погрешность по Рунге =  1.5915657680665163e-09\n",
      "Уточнение по Рунге для ф.трапеции =  0.9999999993811649\n",
      "Погрешность уточненного знач. интерг  =  6.188349832569884e-10\n"
     ]
    }
   ],
   "source": [
    "eps = 10**(-8)\n",
    "\n",
    "h_1 = ( ((eps*12)/(abs(M2)*(b-a))) )**(1/2)\n",
    "print(\"шаг разбиения для трапеции < \",h_1 )\n",
    "\n",
    "n_1 =  math.ceil((b-a)/h_1)\n",
    "print(\"Число разбиений для трапеции  = \", n_1)\n",
    "\n",
    "y_1 = np.zeros( math.ceil((b-a)/h_1 ))\n",
    "x_1 = np.arange(a, b, h_1)\n",
    "\n",
    "for i in range(math.ceil((b-a)/h_1)):\n",
    "    y_1[i] = f(x_1[i])\n",
    "\n",
    "# шаг разбиения в 2 раза меньше для формулы Рунге\n",
    "h_2 = h_1/2\n",
    "y_2 = np.zeros( math.ceil((b-a)/(h_2) ))\n",
    "x_2 = np.arange(a, b, h_2)\n",
    "\n",
    "for i in range(math.ceil((b-a)/h_2)):\n",
    "    y_2[i] = f(x_2[i])\n",
    "\n",
    "print(\"шаг h\")\n",
    "I_2h_trap = trapezium(h_1, y_1, a, b)\n",
    "print(\"шаг h/2\")\n",
    "I_h_trap = trapezium(h_2, y_2, a, b)\n",
    "R_trap= runge(I_h_trap,I_2h_trap, 2) # потряк точности у трапец = 2\n",
    "\n",
    "print(\"Погрешность по Рунге = \",R_trap)\n",
    "print(\"Уточнение по Рунге для ф.трапеции = \",I_h_trap + R_trap)\n",
    "print(\"Погрешность уточненного знач. интерг  = \", abs(answer[0] -(I_h_trap + R_trap)))"
   ]
  },
  {
   "cell_type": "code",
   "execution_count": null,
   "metadata": {},
   "outputs": [],
   "source": []
  },
  {
   "cell_type": "code",
   "execution_count": null,
   "metadata": {},
   "outputs": [],
   "source": []
  },
  {
   "cell_type": "code",
   "execution_count": null,
   "metadata": {},
   "outputs": [],
   "source": []
  },
  {
   "cell_type": "code",
   "execution_count": null,
   "metadata": {},
   "outputs": [],
   "source": []
  }
 ],
 "metadata": {
  "kernelspec": {
   "display_name": "Python 3",
   "language": "python",
   "name": "python3"
  },
  "language_info": {
   "codemirror_mode": {
    "name": "ipython",
    "version": 3
   },
   "file_extension": ".py",
   "mimetype": "text/x-python",
   "name": "python",
   "nbconvert_exporter": "python",
   "pygments_lexer": "ipython3",
   "version": "3.8.1"
  }
 },
 "nbformat": 4,
 "nbformat_minor": 4
}
