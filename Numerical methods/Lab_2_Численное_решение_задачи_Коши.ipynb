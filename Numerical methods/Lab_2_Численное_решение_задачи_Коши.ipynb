{
 "cells": [
  {
   "cell_type": "markdown",
   "metadata": {},
   "source": [
    " ### ЛАБОРАТОРНАЯ РАБОТА 2 \n",
    "***********\n",
    "#            ЧИСЛЕННОЕ РЕШЕНИЕ ЗАДАЧИ КОШИ"
   ]
  },
  {
   "cell_type": "code",
   "execution_count": 137,
   "metadata": {},
   "outputs": [],
   "source": [
    "import numpy as np\n",
    "import copy\n",
    "import math\n",
    "import matplotlib.pyplot as plt\n",
    "from scipy. integrate import odeint"
   ]
  },
  {
   "cell_type": "markdown",
   "metadata": {},
   "source": [
    "### Входные данные по варианту 20"
   ]
  },
  {
   "cell_type": "code",
   "execution_count": 138,
   "metadata": {},
   "outputs": [
    {
     "name": "stdout",
     "output_type": "stream",
     "text": [
      "шаг разбиения =  0.2\n"
     ]
    }
   ],
   "source": [
    "y = -2\n",
    "t0 = 0 # отрезок [t0;T]\n",
    "T = 2\n",
    "\n",
    "def f(t,y):\n",
    "    return -30*y + 5*np.sin(2*t)**2\n",
    "\n",
    "\n",
    "h = (T - t0)/10   # шаг разбиения\n",
    "print(\"шаг разбиения = \", h)\n"
   ]
  },
  {
   "cell_type": "code",
   "execution_count": 139,
   "metadata": {
    "scrolled": true
   },
   "outputs": [
    {
     "name": "stdout",
     "output_type": "stream",
     "text": [
      "[0.  0.2 0.4 0.6 0.8 1.  1.2 1.4 1.6 1.8 2. ]\n",
      "[60.         60.75823323 62.57299881 64.34348429 64.99573694 64.13410905\n",
      " 62.28125254 60.5610853  60.0170377  60.97912171 62.86375008]\n"
     ]
    }
   ],
   "source": [
    "x = np.arange(t0,T+h, h)\n",
    "print(x)\n",
    "print(f(x,y))"
   ]
  },
  {
   "cell_type": "markdown",
   "metadata": {},
   "source": [
    "### 1)  Методом Эйлера с постоянным шагом найти  решение задачи Коши.  Построить график решения."
   ]
  },
  {
   "cell_type": "markdown",
   "metadata": {},
   "source": [
    "### Mетод Эйлера"
   ]
  },
  {
   "cell_type": "code",
   "execution_count": 140,
   "metadata": {},
   "outputs": [],
   "source": [
    "def Euler_max(y0,h,f,a0,b0): \n",
    "    n =  math.ceil((b0-a0)/h)\n",
    "    y_list = []\n",
    "    t = a0\n",
    "    y = y0\n",
    "    y_list.append(y)\n",
    "    for i in range(1,n+1): \n",
    "        y = y + h*(f(t,y))\n",
    "        t = t + h\n",
    "        y_list.append(y)\n",
    "    return y_list"
   ]
  },
  {
   "cell_type": "code",
   "execution_count": 141,
   "metadata": {
    "scrolled": false
   },
   "outputs": [
    {
     "name": "stdout",
     "output_type": "stream",
     "text": [
      "Решение задачи Коши с шагом =  0.2\n",
      "[-2, 10.0, -49.84835335467358, 249.75636653451858, -1247.9131358148225, 6240.5648264620095, -31201.997310499617, 156010.4428030064, -780052.1017979712, 3900260.5123973973, -19501302.366162647]\n"
     ]
    }
   ],
   "source": [
    "h = (T - t0)/10\n",
    "n = math.ceil((T-t0)/h)\n",
    "y_ans_Eul_2h = Euler_max(y,h,f,t0,T) \n",
    "print(\"Решение задачи Коши с шагом = \", h)\n",
    "print(y_ans_Eul_2h)"
   ]
  },
  {
   "cell_type": "code",
   "execution_count": 142,
   "metadata": {},
   "outputs": [
    {
     "name": "stdout",
     "output_type": "stream",
     "text": [
      "[0.  0.2 0.4 0.6 0.8 1.  1.2 1.4 1.6 1.8 2. ]\n",
      "[-2, 10.0, -49.84835335467358, 249.75636653451858, -1247.9131358148225, 6240.5648264620095, -31201.997310499617, 156010.4428030064, -780052.1017979712, 3900260.5123973973, -19501302.366162647]\n"
     ]
    },
    {
     "data": {
      "image/png": "[encoded data removed]",
      "text/plain": [
       "<Figure size 432x288 with 1 Axes>"
      ]
     },
     "metadata": {
      "needs_background": "light"
     },
     "output_type": "display_data"
    }
   ],
   "source": [
    "# Построить график решения.\n",
    "\n",
    "x = np.arange(t0,T+h, h)\n",
    "print(x)\n",
    "print(y_ans_Eul_2h)\n",
    "x_graph = np.linspace(t0, T, 1, endpoint = True) \n",
    "plt.plot(x, y_ans_Eul_2h)\n",
    "plt.scatter(x, y_ans_Eul_2h)\n",
    "plt.grid('True')\n",
    "plt.show()"
   ]
  },
  {
   "cell_type": "markdown",
   "metadata": {},
   "source": [
    "### 2) Составить  программу вычисления  решения  методом Эйлера с заданной точностью, используя правило Рунге. Найти решение задачи с точностью  10^-8, число точек N и шаг, при котором точность достигается.    Построить график решения."
   ]
  },
  {
   "cell_type": "code",
   "execution_count": 143,
   "metadata": {},
   "outputs": [],
   "source": [
    "# правило Рунге\n",
    "def runge (I, I0, p):\n",
    "    return  abs ( (I - I0)/(pow(2,p)-1) )"
   ]
  },
  {
   "cell_type": "code",
   "execution_count": 144,
   "metadata": {
    "scrolled": false
   },
   "outputs": [
    {
     "name": "stdout",
     "output_type": "stream",
     "text": [
      "Шаг при погрешности по Рунге 0.001  =  4.8828125e-05\n",
      "Число точек 40960\n"
     ]
    }
   ],
   "source": [
    "h = 0.2\n",
    "eps = 10**(-3)\n",
    "m = 1000\n",
    "\n",
    "while (m > eps):\n",
    "    n = math.ceil((T-t0)/h)\n",
    "    y_ans_Eul_2h = Euler_max(y,h,f,t0,T) \n",
    "    h=h/2\n",
    "    y_ans_Eul_h = Euler_max(y,h,f,t0,T) \n",
    "    q = []\n",
    "    for i in range(0,n):\n",
    "        q.append(runge(y_ans_Eul_h[2*i],y_ans_Eul_2h[i],1) )\n",
    "    m = max(q)\n",
    "\n",
    "print(\"Шаг при погрешности по Рунге\",eps,\" = \",h)\n",
    "print(\"Число точек\",math.ceil((T-t0)/h))"
   ]
  },
  {
   "cell_type": "code",
   "execution_count": 145,
   "metadata": {},
   "outputs": [
    {
     "data": {
      "image/png": "[encoded data removed]",
      "text/plain": [
       "<Figure size 432x288 with 1 Axes>"
      ]
     },
     "metadata": {
      "needs_background": "light"
     },
     "output_type": "display_data"
    }
   ],
   "source": [
    "x = np.arange(t0,T+h, h)\n",
    "x_graph = np.linspace(t0, T, 1, endpoint = True) \n",
    "plt.plot(x, y_ans_Eul_h)\n",
    "plt.scatter(x, y_ans_Eul_h)\n",
    "plt.grid('True')\n",
    "plt.show()"
   ]
  },
  {
   "cell_type": "markdown",
   "metadata": {},
   "source": [
    "### 3) Составить  программу вычисления  решения с  заданной точностью методом индивидуального варианта. Найти решение задачи с заданной точностью,   число точек N  и шаг, при котором точность достигается. Построить график решения задачи."
   ]
  },
  {
   "cell_type": "code",
   "execution_count": 148,
   "metadata": {},
   "outputs": [],
   "source": [
    "#Интерполяционный метод Адамса 3-го порядка\n",
    "def Adams(y0,h,f1,a0,b0): \n",
    "    n0 =  math.ceil((b0-a0)/h)\n",
    "    t1 = np.arange(a0,b0+h, h)\n",
    "    # находим первые точки с помощью точного решения \n",
    "    g = np.linspace(a0, b0, n0) \n",
    "    y_tochn = odeint(f1, y0, g) \n",
    "    y_list = []\n",
    "    y = y0\n",
    "    y_list.append(y0)\n",
    "    y_list.append(y_tochn[1][0])\n",
    "    y_list.append(y_tochn[2][0])\n",
    "    \n",
    "    for i in range(2,n0-1):\n",
    "        # прогноз\n",
    "        y = y + h/12*(23*f1(t1[i],y_list[i]) - 16*f1(t1[i-1],y_list[i-1]) + 5*f1(t1[i-2],y_list[i-2]))\n",
    "        f = f1(t1[i+1],y)\n",
    "        # коррекция\n",
    "        y = y_list[i] + h/12*(5*f + 8*f1(t1[i],y_list[i]) - f1(t1[i-1],y_list[i-1]))\n",
    "        y_list.append(y)\n",
    "    return y_list"
   ]
  },
  {
   "cell_type": "code",
   "execution_count": 149,
   "metadata": {
    "scrolled": false
   },
   "outputs": [
    {
     "name": "stdout",
     "output_type": "stream",
     "text": [
      "Шаг при погрешности по Рунге  0.01  =  0.000390625\n",
      "Число точек 5120\n"
     ]
    }
   ],
   "source": [
    "h = 0.2\n",
    "eps = 10**(-2)\n",
    "m = 1000\n",
    "\n",
    "while (m > eps):  \n",
    "    n = math.ceil((T-t0)/h)\n",
    "    A1 = Adams(y,h,f,t0,T) \n",
    "    h=h/2\n",
    "    A2 = Adams(y,h,f,t0,T) \n",
    "    q = []\n",
    "    n = math.ceil(len(A2)/2)\n",
    "    for i in range(n):\n",
    "        q.append(runge( A2[2*i],A1[i],3) )\n",
    "    m = max(q)\n",
    "\n",
    "print(\"Шаг при погрешности по Рунге \",eps,\" = \",h)\n",
    "print(\"Число точек\",math.ceil((T-t0)/h))"
   ]
  },
  {
   "cell_type": "code",
   "execution_count": 150,
   "metadata": {},
   "outputs": [
    {
     "data": {
      "image/png": "[encoded data removed]",
      "text/plain": [
       "<Figure size 432x288 with 1 Axes>"
      ]
     },
     "metadata": {
      "needs_background": "light"
     },
     "output_type": "display_data"
    }
   ],
   "source": [
    "x = np.arange(t0,T, h*2)\n",
    "x_graph = np.linspace(t0, T, 1, endpoint = True) \n",
    "plt.plot(x, A1)\n",
    "plt.scatter(x, A1)\n",
    "plt.grid('True')\n",
    "plt.show()"
   ]
  },
  {
   "cell_type": "markdown",
   "metadata": {},
   "source": [
    "## Задача 2.2"
   ]
  },
  {
   "cell_type": "markdown",
   "metadata": {},
   "source": [
    "### 1) Составить программу,   вычисляющую решение задачи по  методу из индивидуального варианта  с точностью  10^-8. Отладить ее  на тестовом примере  из расчетного задания 22."
   ]
  },
  {
   "cell_type": "markdown",
   "metadata": {},
   "source": [
    "###  ОТЛАДКА"
   ]
  },
  {
   "cell_type": "code",
   "execution_count": 151,
   "metadata": {},
   "outputs": [],
   "source": [
    "t = math.exp(1) \n",
    "y = 2*pow((math.exp(1)),2)\n",
    "a = t\n",
    "b = t + 1.2\n",
    "\n",
    "h = 0.001\n",
    "def f1(t,y):\n",
    "    return y/t*np.log(t) + 2*t*np.log(t)\n",
    "\n",
    "# нужные две стартовые точки / первая есть\n",
    "y0 = y\n",
    "# найдем из точного решения\n",
    "def tochn(t0):\n",
    "    return np.log(t0)*( t0**2 + math.exp(2))\n",
    "\n"
   ]
  },
  {
   "cell_type": "code",
   "execution_count": 152,
   "metadata": {},
   "outputs": [
    {
     "name": "stdout",
     "output_type": "stream",
     "text": [
      "Шаг при погрешности по Рунге  0.001  =  2.44140625e-05\n",
      "Число точек 49152\n"
     ]
    }
   ],
   "source": [
    "h = 0.2\n",
    "eps = 10**(-3)\n",
    "m = 1000\n",
    "\n",
    "while (m > eps):\n",
    "    # первые три точки\n",
    "    n = math.ceil((b-a)/h)\n",
    "    ad1 = Adams(y,h,f1,a,b)\n",
    "    h=h/2\n",
    "    ad2 = Adams(y,h,f1,a,b)\n",
    "    n = math.ceil(len(ad2)/2)\n",
    "    q = []\n",
    "    for i in range(n):\n",
    "        q.append(runge(ad2[2*i], ad1[i],3) )\n",
    "    m = max(q)\n",
    "\n",
    "print(\"Шаг при погрешности по Рунге \",eps,\" = \",h)\n",
    "print(\"Число точек\",math.ceil((b-a)/h))"
   ]
  },
  {
   "cell_type": "code",
   "execution_count": 153,
   "metadata": {
    "scrolled": false
   },
   "outputs": [
    {
     "data": {
      "image/png": "[encoded data removed]",
      "text/plain": [
       "<Figure size 432x288 with 1 Axes>"
      ]
     },
     "metadata": {
      "needs_background": "light"
     },
     "output_type": "display_data"
    }
   ],
   "source": [
    "x =  np.arange(a,b, h)\n",
    "x_graph = np.linspace(a , b, 1, endpoint = True) \n",
    "plt.plot(x, ad2)\n",
    "plt.scatter(x, ad2)\n",
    "plt.grid('True')\n",
    "plt.show()"
   ]
  },
  {
   "cell_type": "markdown",
   "metadata": {},
   "source": [
    "### ИНД. ЗАДАНИЕ"
   ]
  },
  {
   "cell_type": "code",
   "execution_count": 154,
   "metadata": {},
   "outputs": [],
   "source": [
    "y0 = -2\n",
    "t0 = 0 # отрезок [t0;T]\n",
    "T = 2\n",
    "h = 0.002\n",
    "\n",
    "def f(t,y):\n",
    "    return -30*y + 5*np.sin(2*t)**2"
   ]
  },
  {
   "cell_type": "code",
   "execution_count": 155,
   "metadata": {},
   "outputs": [
    {
     "name": "stdout",
     "output_type": "stream",
     "text": [
      "Шаг при погрешности по Рунге  0.001  =  4.8828125e-05\n",
      "Число точек 40960\n"
     ]
    }
   ],
   "source": [
    "h = 0.2\n",
    "eps = 10**(-3)\n",
    "m = 1000\n",
    "\n",
    "while (m > eps):\n",
    "    n = math.ceil((b-a)/h)\n",
    "    ad1 = Adams(y0,h,f,t0,T)\n",
    "    h=h/2\n",
    "    ad2 = Adams(y0,h,f,t0,T)\n",
    "    n = math.ceil(len(ad2)/2)\n",
    "    q = []\n",
    "    for i in range(n):\n",
    "        q.append(runge(ad2[2*i], ad1[i],3) )\n",
    "    m = max(q)\n",
    "\n",
    "print(\"Шаг при погрешности по Рунге \",eps,\" = \",h)\n",
    "print(\"Число точек\",math.ceil((T-t0)/h))"
   ]
  },
  {
   "cell_type": "code",
   "execution_count": 156,
   "metadata": {
    "scrolled": true
   },
   "outputs": [
    {
     "data": {
      "image/png": "[encoded data removed]",
      "text/plain": [
       "<Figure size 432x288 with 1 Axes>"
      ]
     },
     "metadata": {
      "needs_background": "light"
     },
     "output_type": "display_data"
    }
   ],
   "source": [
    "ad1 = Adams(y0,h,f,t0,T)\n",
    "x =  np.arange(t0,T, h)\n",
    "x_graph = np.linspace(a , b, 1, endpoint = True) \n",
    "plt.plot(x, ad1)\n",
    "plt.scatter(x, ad1)\n",
    "plt.grid('True')\n",
    "plt.show()"
   ]
  },
  {
   "cell_type": "markdown",
   "metadata": {},
   "source": [
    "### 2) Найти  приближенные  решения задач (2.1) и (2.2)."
   ]
  },
  {
   "cell_type": "code",
   "execution_count": 238,
   "metadata": {},
   "outputs": [],
   "source": [
    "def Y(t,y):\n",
    "    return 0.003*(380-y)*(y-230)\n",
    "\n",
    "def Z(t,z):\n",
    "    return 0.003*(380-z)*(z-230)-4*np.sin(40/2)\n",
    "\n",
    "h = 2"
   ]
  },
  {
   "cell_type": "markdown",
   "metadata": {},
   "source": [
    "## для Y"
   ]
  },
  {
   "cell_type": "code",
   "execution_count": 239,
   "metadata": {},
   "outputs": [
    {
     "name": "stdout",
     "output_type": "stream",
     "text": [
      "Шаг при погрешности по Рунге  0.001  =  9.765625e-05\n",
      "Число точек 409601\n"
     ]
    }
   ],
   "source": [
    "def Y(t,y):\n",
    "    return 0.002*(130-y)*(y-90)\n",
    "\n",
    "a=0\n",
    "b=40\n",
    "h=0.1\n",
    "y0 = 110\n",
    "m=1000\n",
    "eps = 10**(-3)\n",
    "\n",
    "while (m>eps):\n",
    "    n = math.ceil((b-a)/h)\n",
    "    ad1 = Adams(y0,h,Y,a,b)\n",
    "    h=h/2\n",
    "    ad2 = Adams(y0,h,Y,a,b)\n",
    "    n = math.ceil(len(ad2)/2)\n",
    "    q = []\n",
    "    for i in range(n):\n",
    "        q.append(runge(ad2[2*i], ad1[i],3) )\n",
    "    m = max(q)\n",
    "\n",
    "print(\"Шаг при погрешности по Рунге \",eps,\" = \",h)\n",
    "print(\"Число точек\",math.ceil((b-a)/h)+1)"
   ]
  },
  {
   "cell_type": "code",
   "execution_count": 253,
   "metadata": {
    "scrolled": true
   },
   "outputs": [
    {
     "data": {
      "image/png": "[encoded data removed]",
      "text/plain": [
       "<Figure size 432x288 with 1 Axes>"
      ]
     },
     "metadata": {
      "needs_background": "light"
     },
     "output_type": "display_data"
    }
   ],
   "source": [
    "# пострения с Эйлером\n",
    "t0=0\n",
    "T=40\n",
    "h=0.1\n",
    "y = 110\n",
    "\n",
    "y_ans_Eul_h = Euler_max(y,h,Y,t0,T) \n",
    "x = np.arange(t0,T+h, h)\n",
    "\n",
    "plt.plot(x, y_ans_Eul_h)\n",
    "plt.scatter(x, y_ans_Eul_h)\n",
    "plt.grid('True')\n",
    "plt.show()"
   ]
  },
  {
   "cell_type": "markdown",
   "metadata": {},
   "source": [
    "## для Z"
   ]
  },
  {
   "cell_type": "code",
   "execution_count": 256,
   "metadata": {},
   "outputs": [
    {
     "name": "stdout",
     "output_type": "stream",
     "text": [
      "Шаг при погрешности по Рунге  0.001  =  9.765625e-05\n",
      "Число точек 409601\n"
     ]
    }
   ],
   "source": [
    "def Z(t,z):\n",
    "    return 0.002*(130-z)*(z-90)-3*np.sin(t/2)\n",
    "a=0\n",
    "b=40\n",
    "h1=0.1\n",
    "y0 = 110\n",
    "eps = 10**(-3)\n",
    "m=1000\n",
    "\n",
    "while (m>eps):\n",
    "    n = math.ceil((b-a)/h1)\n",
    "    ad2 = Adams(y0,h1,Z,a,b)\n",
    "    h1=h1/2\n",
    "    ad21 = Adams(y0,h1,Z,a,b)\n",
    "    n = math.ceil(len(ad2)/2)\n",
    "    q = []\n",
    "    for i in range(n):\n",
    "        q.append(runge(ad21[2*i], ad2[i],3) )\n",
    "    m = max(q)\n",
    "\n",
    "\n",
    "print(\"Шаг при погрешности по Рунге \",eps,\" = \",h1)\n",
    "print(\"Число точек\",math.ceil((b-a)/h1)+1)"
   ]
  },
  {
   "cell_type": "markdown",
   "metadata": {},
   "source": [
    "### 3) Построить графики полученных  решений y и z"
   ]
  },
  {
   "cell_type": "code",
   "execution_count": 266,
   "metadata": {},
   "outputs": [
    {
     "data": {
      "image/png": "[encoded data removed]",
      "text/plain": [
       "<Figure size 432x288 with 1 Axes>"
      ]
     },
     "metadata": {
      "needs_background": "light"
     },
     "output_type": "display_data"
    }
   ],
   "source": [
    "ad1 = Adams(y0,h1,Y,a,b)\n",
    "x1 =  np.arange(a,b, h)\n",
    "\n",
    "ad11 = Adams(y0,h1,Z,a,b)\n",
    "x2 =  np.arange(a,b, h1)\n",
    "\n",
    "plt.plot(x2, ad1)\n",
    "plt.scatter(x2, ad1)\n",
    "\n",
    "plt.plot(x2, ad11)\n",
    "plt.scatter(x2, ad11)\n",
    "plt.grid('True')\n",
    "plt.show()"
   ]
  },
  {
   "cell_type": "markdown",
   "metadata": {},
   "source": [
    "### 4) Вычислить приближенно  площади между полученными кривыми  на отрезке [0,T] по квадратурной формуле индивидуального варианта ЛР 1."
   ]
  },
  {
   "cell_type": "code",
   "execution_count": 259,
   "metadata": {},
   "outputs": [],
   "source": [
    "# функция по индивидуальному варианту ( формула трапеции )\n",
    "def trapezium(h0, y0, a0, b0):\n",
    "    I = 0\n",
    "    for i in range(0, math.ceil((b0-a0)/h0) - 1):  # округление числа в большую сторону\n",
    "        I += (y0[i] + y0[i+1])/2\n",
    "        #print(i, \" - \", I)\n",
    "    I*=h0\n",
    "    return I    "
   ]
  },
  {
   "cell_type": "code",
   "execution_count": 267,
   "metadata": {},
   "outputs": [
    {
     "name": "stdout",
     "output_type": "stream",
     "text": [
      "Площадь y =  4389.433761475053\n",
      "Площадь z =  4706.18982421587\n",
      "Площадь, заключенная между интегральными кривыми =  483.8396811123821\n"
     ]
    }
   ],
   "source": [
    "print(\"Площадь y = \",trapezium(h, ad1, a, b))\n",
    "print(\"Площадь z = \",trapezium(h1, ad11, a, b))\n",
    "print(\"Площадь, заключенная между интегральными кривыми = \",abs(trapezium(h, ad11, a, b)-trapezium(h1, ad1, a, b)))"
   ]
  },
  {
   "cell_type": "code",
   "execution_count": 271,
   "metadata": {
    "scrolled": false
   },
   "outputs": [
    {
     "name": "stdout",
     "output_type": "stream",
     "text": [
      "409600\n",
      "Точки пересечения =  [0, 12.204999999998675, 23.355000000006115, 26.778000000009076, 35.122000000006956, 39.9]\n"
     ]
    }
   ],
   "source": [
    "ad1 = np.array(ad1)\n",
    "ad11 = np.array(ad11)\n",
    "print(len(ad1))\n",
    "\n",
    "difference = np.abs(ad1 - ad11)\n",
    "\n",
    "import scipy. optimize as opt \n",
    "from scipy import interpolate as inter \n",
    "\n",
    "dif = inter.interp1d(np.arange(a, b, (b-a)/len(ad1)), difference, kind = \"cubic\")\n",
    "\n",
    "def find_segments(f, A, B, eps):\n",
    "    res = []\n",
    "    t = A\n",
    "    while(t < B):\n",
    "        if (np.abs(f(t)) < eps):\n",
    "            res. append(t)\n",
    "            t+= 1\n",
    "        else:\n",
    "            t += eps\n",
    "    res.append(B) \n",
    "    return res\n",
    "\n",
    "seg = find_segments(dif, a, b-h, 1e-3)\n",
    "print(\"Точки пересечения = \",seg)"
   ]
  },
  {
   "cell_type": "code",
   "execution_count": 274,
   "metadata": {},
   "outputs": [
    {
     "name": "stdout",
     "output_type": "stream",
     "text": [
      "Площадь, заключенная между интегральными кривыми =  57.844802152873626\n",
      "Площадь, заключенная между интегральными кривыми =  53.611119832634586\n",
      "Площадь, заключенная между интегральными кривыми =  7.189556287767118\n",
      "Площадь, заключенная между интегральными кривыми =  32.14952523221655\n",
      "Площадь, заключенная между интегральными кривыми =  17.636788092564643\n"
     ]
    }
   ],
   "source": [
    "max_area = []\n",
    "for i in range(0,len(seg)-1):\n",
    "    max_area.append(abs(trapezium(h, ad11,seg[i] , seg[i + 1])-trapezium(h1, ad1, seg[i] , seg[i + 1])))\n",
    "    print(\"Площадь, заключенная между интегральными кривыми = \",abs(trapezium(h, ad11,seg[i] , seg[i + 1])-trapezium(h1, ad1, seg[i] , seg[i + 1])))"
   ]
  },
  {
   "cell_type": "code",
   "execution_count": 276,
   "metadata": {},
   "outputs": [
    {
     "name": "stdout",
     "output_type": "stream",
     "text": [
      "Наибольшая площадь =  57.844802152873626\n"
     ]
    }
   ],
   "source": [
    "print(\"Наибольшая площадь = \",max(max_area))"
   ]
  }
 ],
 "metadata": {
  "kernelspec": {
   "display_name": "Python 3",
   "language": "python",
   "name": "python3"
  },
  "language_info": {
   "codemirror_mode": {
    "name": "ipython",
    "version": 3
   },
   "file_extension": ".py",
   "mimetype": "text/x-python",
   "name": "python",
   "nbconvert_exporter": "python",
   "pygments_lexer": "ipython3",
   "version": "3.8.1"
  }
 },
 "nbformat": 4,
 "nbformat_minor": 4
}
